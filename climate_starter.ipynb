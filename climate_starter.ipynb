{
 "cells": [
  {
   "cell_type": "code",
   "execution_count": 2,
   "metadata": {},
   "outputs": [],
   "source": [
    "%matplotlib inline\n",
    "from matplotlib import style\n",
    "style.use('fivethirtyeight')\n",
    "import matplotlib.pyplot as plt"
   ]
  },
  {
   "cell_type": "code",
   "execution_count": 3,
   "metadata": {},
   "outputs": [],
   "source": [
    "import numpy as np\n",
    "import pandas as pd\n",
    "import datetime as dt"
   ]
  },
  {
   "cell_type": "markdown",
   "metadata": {},
   "source": [
    "# Reflect Tables into SQLAlchemy ORM"
   ]
  },
  {
   "cell_type": "code",
   "execution_count": 4,
   "metadata": {},
   "outputs": [],
   "source": [
    "# Python SQL toolkit and Object Relational Mapper\n",
    "import sqlalchemy\n",
    "from sqlalchemy.ext.automap import automap_base\n",
    "from sqlalchemy.orm import Session\n",
    "from sqlalchemy import create_engine, func"
   ]
  },
  {
   "cell_type": "code",
   "execution_count": 5,
   "metadata": {},
   "outputs": [],
   "source": [
    "# create engine to hawaii.sqlite\n",
    "engine = create_engine(\"sqlite:///Resources/hawaii.sqlite\")"
   ]
  },
  {
   "cell_type": "code",
   "execution_count": 6,
   "metadata": {},
   "outputs": [],
   "source": [
    "# reflect an existing database into a new model\n",
    "db=automap_base()\n",
    "db.prepare(engine,reflect=True)\n",
    "# reflect the tables\n"
   ]
  },
  {
   "cell_type": "code",
   "execution_count": 7,
   "metadata": {},
   "outputs": [
    {
     "data": {
      "text/plain": [
       "['measurement', 'station']"
      ]
     },
     "execution_count": 7,
     "metadata": {},
     "output_type": "execute_result"
    }
   ],
   "source": [
    "# View all of the classes that automap found\n",
    "db.classes.keys()"
   ]
  },
  {
   "cell_type": "code",
   "execution_count": 8,
   "metadata": {},
   "outputs": [],
   "source": [
    "# Save references to each table\n",
    "measure=db.classes.measurement\n",
    "station=db.classes.station\n"
   ]
  },
  {
   "cell_type": "code",
   "execution_count": 9,
   "metadata": {},
   "outputs": [],
   "source": [
    "# Create our session (link) from Python to the DB\n",
    "session=Session(engine)"
   ]
  },
  {
   "cell_type": "markdown",
   "metadata": {},
   "source": [
    "# Exploratory Precipitation Analysis"
   ]
  },
  {
   "cell_type": "code",
   "execution_count": 10,
   "metadata": {},
   "outputs": [
    {
     "data": {
      "text/plain": [
       "[Column('id', INTEGER(), table=<measurement>, primary_key=True, nullable=False),\n",
       " Column('station', TEXT(), table=<measurement>),\n",
       " Column('date', TEXT(), table=<measurement>),\n",
       " Column('prcp', FLOAT(), table=<measurement>),\n",
       " Column('tobs', FLOAT(), table=<measurement>)]"
      ]
     },
     "execution_count": 10,
     "metadata": {},
     "output_type": "execute_result"
    }
   ],
   "source": [
    "# Find the most recent date in the data set.\n",
    "measure.__table__.columns.values()"
   ]
  },
  {
   "cell_type": "code",
   "execution_count": 11,
   "metadata": {},
   "outputs": [],
   "source": [
    "date=session.query(measure.date).all()\n",
    "data_df=pd.DataFrame(date)\n",
    "data_df\n",
    "data_df['start_date'] = pd.to_datetime(data_df['date'])\n",
    "now=data_df['start_date'].max()"
   ]
  },
  {
   "cell_type": "code",
   "execution_count": 12,
   "metadata": {},
   "outputs": [
    {
     "name": "stdout",
     "output_type": "stream",
     "text": [
      "CURRENT DAY :  2021-09-30\n",
      "AFTER 5 DAYS DATE WILL BE :  2016-08-23 00:00:00\n"
     ]
    }
   ],
   "source": [
    "from datetime import date, timedelta\n",
    " \n",
    "today_date = date.today()\n",
    " \n",
    "print(\"CURRENT DAY : \", today_date)\n",
    " \n",
    "# as said earlier it takes argument as day by default\n",
    "td = timedelta(-365)\n",
    "print(\"AFTER 5 DAYS DATE WILL BE : \", now + td)"
   ]
  },
  {
   "cell_type": "code",
   "execution_count": 13,
   "metadata": {},
   "outputs": [
    {
     "name": "stdout",
     "output_type": "stream",
     "text": [
      "this is the most current date: ['2017-08-23']\n",
      "one year from most recent date 2016-08-23 00:00:00\n"
     ]
    },
    {
     "data": {
      "text/plain": [
       "<matplotlib.axes._subplots.AxesSubplot at 0x282d8836f98>"
      ]
     },
     "execution_count": 13,
     "metadata": {},
     "output_type": "execute_result"
    },
    {
     "data": {
      "image/png": "[encoded data removed]",
      "text/plain": [
       "<Figure size 432x288 with 1 Axes>"
      ]
     },
     "metadata": {
      "needs_background": "light"
     },
     "output_type": "display_data"
    }
   ],
   "source": [
    "# Design a query to retrieve the last 12 months of precipitation data and plot the results. \n",
    "# Starting from the most recent data point in the database. \n",
    "current=session.query(measure.date).order_by(measure.date.desc()).first()\n",
    "current_date=list(current)\n",
    "print(\"this is the most current date:\", current_date)\n",
    "# Calculate the date one year from the last date in data set.\n",
    "print('one year from most recent date',now +td)\n",
    "last_year=now+td\n",
    "\n",
    "#test=current_date[0]\n",
    "test=str(last_year)\n",
    "\n",
    "# Perform a query to retrieve the data and precipitation scores\n",
    "rain=session.query(measure.date, measure.prcp).\\\n",
    "filter(measure.date>=test).\\\n",
    "order_by(measure.date).\\\n",
    "all()\n",
    "last_year\n",
    "test\n",
    "#rain\n",
    "\n",
    "# Save the query results as a Pandas DataFrame and set the index to the date column\n",
    "rain_df=pd.DataFrame(rain)\n",
    "rain_df1=rain_df.sort_values('date')\n",
    "rain_date_index=rain_df1.set_index('date')\n",
    "#rain_date_index_sorted=rain_date_index.sort_values('date',ascending=True)\n",
    "rain_date_index\n",
    "# Sort the dataframe by date\n",
    "rain_cleaned=rain_date_index.dropna()\n",
    "rain_cleaned\n",
    "# Use Pandas Plotting with Matplotlib to plot the data\n",
    "\n",
    "rain_cleaned.plot()\n",
    "\n"
   ]
  },
  {
   "cell_type": "code",
   "execution_count": 14,
   "metadata": {},
   "outputs": [
    {
     "data": {
      "text/plain": [
       "{'prcp': {'2016-08-24': 1.45,\n",
       "  '2016-08-25': 0.11,\n",
       "  '2016-08-26': 0.02,\n",
       "  '2016-08-27': 0.12,\n",
       "  '2016-08-28': 2.07,\n",
       "  '2016-08-29': 0.0,\n",
       "  '2016-08-30': 0.05,\n",
       "  '2016-08-31': 0.1,\n",
       "  '2016-09-01': 0.0,\n",
       "  '2016-09-02': 0.03,\n",
       "  '2016-09-03': 1.0,\n",
       "  '2016-09-04': 0.74,\n",
       "  '2016-09-05': 0.18,\n",
       "  '2016-09-06': 0.04,\n",
       "  '2016-09-07': 0.23,\n",
       "  '2016-09-08': 0.15,\n",
       "  '2016-09-09': 0.29,\n",
       "  '2016-09-10': 1.16,\n",
       "  '2016-09-11': 0.6,\n",
       "  '2016-09-12': 0.0,\n",
       "  '2016-09-13': 0.32,\n",
       "  '2016-09-14': 6.7,\n",
       "  '2016-09-15': 0.12,\n",
       "  '2016-09-16': 0.07,\n",
       "  '2016-09-17': 0.23,\n",
       "  '2016-09-18': 0.0,\n",
       "  '2016-09-19': 0.25,\n",
       "  '2016-09-20': 0.43,\n",
       "  '2016-09-21': 0.02,\n",
       "  '2016-09-22': 0.75,\n",
       "  '2016-09-23': 0.15,\n",
       "  '2016-09-24': 0.0,\n",
       "  '2016-09-25': 0.04,\n",
       "  '2016-09-26': 0.06,\n",
       "  '2016-09-27': 1.0,\n",
       "  '2016-09-28': 0.05,\n",
       "  '2016-09-29': 0.04,\n",
       "  '2016-09-30': 0.38,\n",
       "  '2016-10-01': 0.14,\n",
       "  '2016-10-02': 0.61,\n",
       "  '2016-10-03': 0.04,\n",
       "  '2016-10-04': 0.0,\n",
       "  '2016-10-05': 0.81,\n",
       "  '2016-10-06': 0.0,\n",
       "  '2016-10-07': 0.01,\n",
       "  '2016-10-08': 0.0,\n",
       "  '2016-10-09': 0.0,\n",
       "  '2016-10-10': 0.0,\n",
       "  '2016-10-11': 0.04,\n",
       "  '2016-10-12': 0.02,\n",
       "  '2016-10-13': 0.0,\n",
       "  '2016-10-14': 0.0,\n",
       "  '2016-10-15': 0.33,\n",
       "  '2016-10-16': 0.0,\n",
       "  '2016-10-17': 0.01,\n",
       "  '2016-10-18': 0.03,\n",
       "  '2016-10-19': 0.0,\n",
       "  '2016-10-20': 0.01,\n",
       "  '2016-10-21': 0.0,\n",
       "  '2016-10-22': 1.37,\n",
       "  '2016-10-23': 0.01,\n",
       "  '2016-10-24': 0.7,\n",
       "  '2016-10-25': 0.4,\n",
       "  '2016-10-26': 0.2,\n",
       "  '2016-10-27': 1.25,\n",
       "  '2016-10-28': 0.0,\n",
       "  '2016-10-29': 0.25,\n",
       "  '2016-10-30': 0.14,\n",
       "  '2016-10-31': 0.03,\n",
       "  '2016-11-01': 0.0,\n",
       "  '2016-11-02': 0.04,\n",
       "  '2016-11-03': 0.0,\n",
       "  '2016-11-04': 0.0,\n",
       "  '2016-11-05': 0.38,\n",
       "  '2016-11-06': 0.0,\n",
       "  '2016-11-07': 0.05,\n",
       "  '2016-11-08': 0.07,\n",
       "  '2016-11-09': 0.04,\n",
       "  '2016-11-10': 0.0,\n",
       "  '2016-11-11': 0.0,\n",
       "  '2016-11-12': 0.0,\n",
       "  '2016-11-13': 0.0,\n",
       "  '2016-11-14': 0.05,\n",
       "  '2016-11-15': 0.05,\n",
       "  '2016-11-16': 0.14,\n",
       "  '2016-11-17': 0.02,\n",
       "  '2016-11-18': 0.0,\n",
       "  '2016-11-19': 0.03,\n",
       "  '2016-11-20': 0.39,\n",
       "  '2016-11-21': 2.87,\n",
       "  '2016-11-22': 0.13,\n",
       "  '2016-11-23': 0.25,\n",
       "  '2016-11-24': 0.72,\n",
       "  '2016-11-25': 0.05,\n",
       "  '2016-11-26': 0.3,\n",
       "  '2016-11-27': 0.03,\n",
       "  '2016-11-28': 0.01,\n",
       "  '2016-11-29': 0.2,\n",
       "  '2016-11-30': 0.14,\n",
       "  '2016-12-01': 0.72,\n",
       "  '2016-12-02': 0.03,\n",
       "  '2016-12-03': 0.26,\n",
       "  '2016-12-04': 0.31,\n",
       "  '2016-12-05': 0.43,\n",
       "  '2016-12-06': 0.0,\n",
       "  '2016-12-07': 0.0,\n",
       "  '2016-12-08': 0.27,\n",
       "  '2016-12-09': 0.26,\n",
       "  '2016-12-10': 0.04,\n",
       "  '2016-12-11': 0.02,\n",
       "  '2016-12-12': 0.01,\n",
       "  '2016-12-13': 0.1,\n",
       "  '2016-12-14': 0.05,\n",
       "  '2016-12-15': 0.03,\n",
       "  '2016-12-16': 0.0,\n",
       "  '2016-12-17': 0.07,\n",
       "  '2016-12-18': 0.04,\n",
       "  '2016-12-19': 0.0,\n",
       "  '2016-12-20': 0.0,\n",
       "  '2016-12-21': 0.55,\n",
       "  '2016-12-22': 0.17,\n",
       "  '2016-12-23': 0.03,\n",
       "  '2016-12-24': 1.08,\n",
       "  '2016-12-25': 0.0,\n",
       "  '2016-12-26': 1.48,\n",
       "  '2016-12-27': 0.14,\n",
       "  '2016-12-28': 0.09,\n",
       "  '2016-12-29': 1.03,\n",
       "  '2016-12-30': 0.29,\n",
       "  '2016-12-31': 0.9,\n",
       "  '2017-01-01': 0.03,\n",
       "  '2017-01-02': 0.01,\n",
       "  '2017-01-03': 0.0,\n",
       "  '2017-01-04': 0.0,\n",
       "  '2017-01-05': 0.0,\n",
       "  '2017-01-06': 0.1,\n",
       "  '2017-01-07': 0.0,\n",
       "  '2017-01-08': 0.03,\n",
       "  '2017-01-09': 0.0,\n",
       "  '2017-01-10': 0.0,\n",
       "  '2017-01-11': 0.0,\n",
       "  '2017-01-12': 0.0,\n",
       "  '2017-01-13': 0.0,\n",
       "  '2017-01-14': 0.0,\n",
       "  '2017-01-15': 0.01,\n",
       "  '2017-01-16': 0.0,\n",
       "  '2017-01-17': 0.0,\n",
       "  '2017-01-18': 0.0,\n",
       "  '2017-01-19': 0.0,\n",
       "  '2017-01-20': 0.0,\n",
       "  '2017-01-21': 0.02,\n",
       "  '2017-01-22': 0.72,\n",
       "  '2017-01-23': 0.08,\n",
       "  '2017-01-24': 0.04,\n",
       "  '2017-01-25': 0.12,\n",
       "  '2017-01-26': 0.1,\n",
       "  '2017-01-27': 0.0,\n",
       "  '2017-01-28': 0.0,\n",
       "  '2017-01-29': 0.55,\n",
       "  '2017-01-30': 0.0,\n",
       "  '2017-01-31': 0.0,\n",
       "  '2017-02-01': 0.0,\n",
       "  '2017-02-02': 0.0,\n",
       "  '2017-02-03': 0.0,\n",
       "  '2017-02-04': 0.0,\n",
       "  '2017-02-05': 0.0,\n",
       "  '2017-02-06': 0.16,\n",
       "  '2017-02-07': 0.0,\n",
       "  '2017-02-08': 0.0,\n",
       "  '2017-02-09': 0.0,\n",
       "  '2017-02-10': 0.0,\n",
       "  '2017-02-11': 0.73,\n",
       "  '2017-02-12': 1.91,\n",
       "  '2017-02-13': 0.0,\n",
       "  '2017-02-14': 0.01,\n",
       "  '2017-02-15': 0.0,\n",
       "  '2017-02-16': 0.62,\n",
       "  '2017-02-17': 0.13,\n",
       "  '2017-02-18': 0.01,\n",
       "  '2017-02-19': 0.1,\n",
       "  '2017-02-20': 0.0,\n",
       "  '2017-02-21': 0.0,\n",
       "  '2017-02-22': 0.32,\n",
       "  '2017-02-23': 0.0,\n",
       "  '2017-02-24': 0.0,\n",
       "  '2017-02-25': 0.12,\n",
       "  '2017-02-26': 0.0,\n",
       "  '2017-02-27': 0.0,\n",
       "  '2017-02-28': 0.04,\n",
       "  '2017-03-01': 1.19,\n",
       "  '2017-03-02': 0.58,\n",
       "  '2017-03-03': 0.47,\n",
       "  '2017-03-04': 0.0,\n",
       "  '2017-03-05': 0.35,\n",
       "  '2017-03-06': 0.0,\n",
       "  '2017-03-07': 0.0,\n",
       "  '2017-03-08': 0.0,\n",
       "  '2017-03-09': 0.5,\n",
       "  '2017-03-10': 0.0,\n",
       "  '2017-03-11': 0.03,\n",
       "  '2017-03-12': 0.0,\n",
       "  '2017-03-13': 0.0,\n",
       "  '2017-03-14': 0.0,\n",
       "  '2017-03-15': 0.0,\n",
       "  '2017-03-16': 0.0,\n",
       "  '2017-03-17': 0.06,\n",
       "  '2017-03-18': 0.0,\n",
       "  '2017-03-19': 0.0,\n",
       "  '2017-03-20': 0.0,\n",
       "  '2017-03-21': 0.0,\n",
       "  '2017-03-22': 0.0,\n",
       "  '2017-03-23': 0.0,\n",
       "  '2017-03-24': 0.17,\n",
       "  '2017-03-25': 0.48,\n",
       "  '2017-03-26': 0.0,\n",
       "  '2017-03-27': 0.0,\n",
       "  '2017-03-28': 0.0,\n",
       "  '2017-03-29': 0.03,\n",
       "  '2017-03-30': 0.03,\n",
       "  '2017-03-31': 0.01,\n",
       "  '2017-04-01': 0.0,\n",
       "  '2017-04-02': 0.0,\n",
       "  '2017-04-03': 0.0,\n",
       "  '2017-04-04': 0.0,\n",
       "  '2017-04-05': 0.45,\n",
       "  '2017-04-06': 0.0,\n",
       "  '2017-04-07': 0.0,\n",
       "  '2017-04-08': 0.0,\n",
       "  '2017-04-09': 0.0,\n",
       "  '2017-04-10': 0.0,\n",
       "  '2017-04-11': 0.16,\n",
       "  '2017-04-12': 0.0,\n",
       "  '2017-04-13': 0.0,\n",
       "  '2017-04-14': 2.3,\n",
       "  '2017-04-15': 0.45,\n",
       "  '2017-04-16': 0.11,\n",
       "  '2017-04-17': 0.02,\n",
       "  '2017-04-18': 0.0,\n",
       "  '2017-04-19': 0.14,\n",
       "  '2017-04-20': 0.05,\n",
       "  '2017-04-21': 1.84,\n",
       "  '2017-04-22': 1.01,\n",
       "  '2017-04-23': 0.02,\n",
       "  '2017-04-24': 0.05,\n",
       "  '2017-04-25': 0.0,\n",
       "  '2017-04-26': 0.22,\n",
       "  '2017-04-27': 0.1,\n",
       "  '2017-04-28': 0.09,\n",
       "  '2017-04-29': 0.95,\n",
       "  '2017-04-30': 0.8,\n",
       "  '2017-05-01': 0.03,\n",
       "  '2017-05-02': 0.0,\n",
       "  '2017-05-03': 0.01,\n",
       "  '2017-05-04': 0.0,\n",
       "  '2017-05-05': 0.1,\n",
       "  '2017-05-06': 0.0,\n",
       "  '2017-05-07': 0.0,\n",
       "  '2017-05-08': 1.11,\n",
       "  '2017-05-09': 0.23,\n",
       "  '2017-05-10': 0.0,\n",
       "  '2017-05-11': 0.44,\n",
       "  '2017-05-12': 0.1,\n",
       "  '2017-05-13': 0.02,\n",
       "  '2017-05-14': 1.0,\n",
       "  '2017-05-15': 0.05,\n",
       "  '2017-05-16': 0.3,\n",
       "  '2017-05-17': 0.0,\n",
       "  '2017-05-18': 0.0,\n",
       "  '2017-05-19': 0.01,\n",
       "  '2017-05-20': 0.01,\n",
       "  '2017-05-21': 0.0,\n",
       "  '2017-05-22': 0.3,\n",
       "  '2017-05-23': 0.11,\n",
       "  '2017-05-24': 2.17,\n",
       "  '2017-05-25': 0.88,\n",
       "  '2017-05-26': 0.0,\n",
       "  '2017-05-27': 0.5,\n",
       "  '2017-05-28': 0.0,\n",
       "  '2017-05-29': 0.0,\n",
       "  '2017-05-30': 1.12,\n",
       "  '2017-05-31': 0.25,\n",
       "  '2017-06-01': 0.0,\n",
       "  '2017-06-02': 0.0,\n",
       "  '2017-06-03': 0.08,\n",
       "  '2017-06-04': 0.0,\n",
       "  '2017-06-05': 0.01,\n",
       "  '2017-06-06': 0.0,\n",
       "  '2017-06-07': 0.01,\n",
       "  '2017-06-08': 0.0,\n",
       "  '2017-06-09': 0.0,\n",
       "  '2017-06-10': 0.53,\n",
       "  '2017-06-11': 0.7,\n",
       "  '2017-06-12': 0.35,\n",
       "  '2017-06-13': 0.0,\n",
       "  '2017-06-14': 0.81,\n",
       "  '2017-06-15': 0.0,\n",
       "  '2017-06-16': 0.1,\n",
       "  '2017-06-17': 0.02,\n",
       "  '2017-06-18': 0.7,\n",
       "  '2017-06-19': 0.05,\n",
       "  '2017-06-20': 0.02,\n",
       "  '2017-06-21': 0.02,\n",
       "  '2017-06-22': 0.28,\n",
       "  '2017-06-23': 0.0,\n",
       "  '2017-06-24': 0.22,\n",
       "  '2017-06-25': 0.5,\n",
       "  '2017-06-26': 0.0,\n",
       "  '2017-06-27': 0.1,\n",
       "  '2017-06-28': 0.02,\n",
       "  '2017-06-29': 0.0,\n",
       "  '2017-06-30': 0.2,\n",
       "  '2017-07-01': 0.1,\n",
       "  '2017-07-02': 0.05,\n",
       "  '2017-07-03': 0.4,\n",
       "  '2017-07-04': 0.0,\n",
       "  '2017-07-05': 0.0,\n",
       "  '2017-07-06': 0.02,\n",
       "  '2017-07-07': 0.02,\n",
       "  '2017-07-08': 0.0,\n",
       "  '2017-07-09': 0.0,\n",
       "  '2017-07-10': 0.0,\n",
       "  '2017-07-11': 0.01,\n",
       "  '2017-07-12': 0.05,\n",
       "  '2017-07-13': 0.07,\n",
       "  '2017-07-14': 0.68,\n",
       "  '2017-07-15': 0.01,\n",
       "  '2017-07-16': 0.12,\n",
       "  '2017-07-17': 0.39,\n",
       "  '2017-07-18': 0.0,\n",
       "  '2017-07-19': 0.27,\n",
       "  '2017-07-20': 0.0,\n",
       "  '2017-07-21': 0.0,\n",
       "  '2017-07-22': 4.0,\n",
       "  '2017-07-23': 0.8,\n",
       "  '2017-07-24': 0.05,\n",
       "  '2017-07-25': 0.3,\n",
       "  '2017-07-26': 0.06,\n",
       "  '2017-07-27': 0.0,\n",
       "  '2017-07-28': 0.4,\n",
       "  '2017-07-29': 0.0,\n",
       "  '2017-07-30': 0.3,\n",
       "  '2017-07-31': 0.0,\n",
       "  '2017-08-01': 0.02,\n",
       "  '2017-08-02': 0.25,\n",
       "  '2017-08-03': 0.06,\n",
       "  '2017-08-04': 0.0,\n",
       "  '2017-08-05': 0.06,\n",
       "  '2017-08-06': 0.0,\n",
       "  '2017-08-07': 0.05,\n",
       "  '2017-08-08': 0.1,\n",
       "  '2017-08-09': 0.15,\n",
       "  '2017-08-10': 0.07,\n",
       "  '2017-08-11': 0.0,\n",
       "  '2017-08-12': 0.14,\n",
       "  '2017-08-13': 0.0,\n",
       "  '2017-08-14': 0.22,\n",
       "  '2017-08-15': 0.06,\n",
       "  '2017-08-16': 0.42,\n",
       "  '2017-08-17': 0.13,\n",
       "  '2017-08-18': 0.06,\n",
       "  '2017-08-19': 0.0,\n",
       "  '2017-08-20': 0.01,\n",
       "  '2017-08-21': 0.56,\n",
       "  '2017-08-22': 0.5,\n",
       "  '2017-08-23': 0.45}}"
      ]
     },
     "execution_count": 14,
     "metadata": {},
     "output_type": "execute_result"
    }
   ],
   "source": [
    "rain_cleaned_dict=rain_cleaned.to_dict()\n",
    "rain_cleaned_dict"
   ]
  },
  {
   "cell_type": "code",
   "execution_count": null,
   "metadata": {},
   "outputs": [],
   "source": []
  },
  {
   "cell_type": "code",
   "execution_count": 126,
   "metadata": {},
   "outputs": [
    {
     "data": {
      "text/html": [
       "<div>\n",
       "<style scoped>\n",
       "    .dataframe tbody tr th:only-of-type {\n",
       "        vertical-align: middle;\n",
       "    }\n",
       "\n",
       "    .dataframe tbody tr th {\n",
       "        vertical-align: top;\n",
       "    }\n",
       "\n",
       "    .dataframe thead th {\n",
       "        text-align: right;\n",
       "    }\n",
       "</style>\n",
       "<table border=\"1\" class=\"dataframe\">\n",
       "  <thead>\n",
       "    <tr style=\"text-align: right;\">\n",
       "      <th></th>\n",
       "      <th>prcp</th>\n",
       "    </tr>\n",
       "  </thead>\n",
       "  <tbody>\n",
       "    <tr>\n",
       "      <th>count</th>\n",
       "      <td>2015.000000</td>\n",
       "    </tr>\n",
       "    <tr>\n",
       "      <th>mean</th>\n",
       "      <td>0.176462</td>\n",
       "    </tr>\n",
       "    <tr>\n",
       "      <th>std</th>\n",
       "      <td>0.460288</td>\n",
       "    </tr>\n",
       "    <tr>\n",
       "      <th>min</th>\n",
       "      <td>0.000000</td>\n",
       "    </tr>\n",
       "    <tr>\n",
       "      <th>25%</th>\n",
       "      <td>0.000000</td>\n",
       "    </tr>\n",
       "    <tr>\n",
       "      <th>50%</th>\n",
       "      <td>0.020000</td>\n",
       "    </tr>\n",
       "    <tr>\n",
       "      <th>75%</th>\n",
       "      <td>0.130000</td>\n",
       "    </tr>\n",
       "    <tr>\n",
       "      <th>max</th>\n",
       "      <td>6.700000</td>\n",
       "    </tr>\n",
       "  </tbody>\n",
       "</table>\n",
       "</div>"
      ],
      "text/plain": [
       "              prcp\n",
       "count  2015.000000\n",
       "mean      0.176462\n",
       "std       0.460288\n",
       "min       0.000000\n",
       "25%       0.000000\n",
       "50%       0.020000\n",
       "75%       0.130000\n",
       "max       6.700000"
      ]
     },
     "execution_count": 126,
     "metadata": {},
     "output_type": "execute_result"
    }
   ],
   "source": [
    "# Use Pandas to calcualte the summary statistics for the precipitation data\n",
    "rain_cleaned.describe()"
   ]
  },
  {
   "cell_type": "markdown",
   "metadata": {},
   "source": [
    "# Exploratory Station Analysis"
   ]
  },
  {
   "cell_type": "code",
   "execution_count": 128,
   "metadata": {},
   "outputs": [
    {
     "name": "stdout",
     "output_type": "stream",
     "text": [
      "Total Stations: 9\n"
     ]
    }
   ],
   "source": [
    "# Design a query to calculate the total number stations in the dataset\n",
    "total_stations=session.query(station.id).count()\n",
    "print(\"Total Stations:\",total_stations)"
   ]
  },
  {
   "cell_type": "code",
   "execution_count": null,
   "metadata": {},
   "outputs": [],
   "source": []
  },
  {
   "cell_type": "code",
   "execution_count": 136,
   "metadata": {},
   "outputs": [
    {
     "data": {
      "text/plain": [
       "[('USC00519281', 2772),\n",
       " ('USC00519397', 2724),\n",
       " ('USC00513117', 2709),\n",
       " ('USC00519523', 2669),\n",
       " ('USC00516128', 2612),\n",
       " ('USC00514830', 2202),\n",
       " ('USC00511918', 1979),\n",
       " ('USC00517948', 1372),\n",
       " ('USC00518838', 511)]"
      ]
     },
     "execution_count": 136,
     "metadata": {},
     "output_type": "execute_result"
    }
   ],
   "source": [
    "# Design a query to find the most active stations (i.e. what stations have the most rows?)\n",
    "# List the stations and the counts in descending order.\n",
    "session.query(measure.station, func.count(measure.station)).group_by(measure.station).\\\n",
    "order_by(func.count(measure.station).desc()).all()\n"
   ]
  },
  {
   "cell_type": "code",
   "execution_count": 137,
   "metadata": {},
   "outputs": [
    {
     "data": {
      "text/plain": [
       "[(54.0, 85.0, 71.66378066378067)]"
      ]
     },
     "execution_count": 137,
     "metadata": {},
     "output_type": "execute_result"
    }
   ],
   "source": [
    "# Using the most active station id from the previous query, calculate the lowest, highest, and average temperature.\n",
    "session.query(func.min(measure.tobs), func.max(measure.tobs),func.avg(measure.tobs)).filter(measure.station=='USC00519281').all()"
   ]
  },
  {
   "cell_type": "code",
   "execution_count": 141,
   "metadata": {},
   "outputs": [
    {
     "data": {
      "image/png": "[encoded data removed]",
      "text/plain": [
       "<Figure size 432x288 with 1 Axes>"
      ]
     },
     "metadata": {
      "needs_background": "light"
     },
     "output_type": "display_data"
    }
   ],
   "source": [
    "# Using the most active station id\n",
    "# Query the last 12 months of temperature observation data for this station and plot the results as a histogram\n",
    "hist_data=session.query(measure.tobs).filter(measure.station=='USC00519281').filter(measure.date>=test).all()\n",
    "hist=pd.DataFrame(hist_data)\n",
    "hist.plot.hist()\n",
    "plt.show()"
   ]
  },
  {
   "cell_type": "markdown",
   "metadata": {},
   "source": [
    "# Close session"
   ]
  },
  {
   "cell_type": "code",
   "execution_count": 142,
   "metadata": {},
   "outputs": [],
   "source": [
    "# Close Session\n",
    "session.close()"
   ]
  },
  {
   "cell_type": "code",
   "execution_count": null,
   "metadata": {},
   "outputs": [],
   "source": []
  }
 ],
 "metadata": {
  "anaconda-cloud": {},
  "kernel_info": {
   "name": "python3"
  },
  "kernelspec": {
   "display_name": "Python 3",
   "language": "python",
   "name": "python3"
  },
  "language_info": {
   "codemirror_mode": {
    "name": "ipython",
    "version": 3
   },
   "file_extension": ".py",
   "mimetype": "text/x-python",
   "name": "python",
   "nbconvert_exporter": "python",
   "pygments_lexer": "ipython3",
   "version": "3.7.1"
  },
  "nteract": {
   "version": "0.12.3"
  },
  "varInspector": {
   "cols": {
    "lenName": 16,
    "lenType": 16,
    "lenVar": 40
   },
   "kernels_config": {
    "python": {
     "delete_cmd_postfix": "",
     "delete_cmd_prefix": "del ",
     "library": "var_list.py",
     "varRefreshCmd": "print(var_dic_list())"
    },
    "r": {
     "delete_cmd_postfix": ") ",
     "delete_cmd_prefix": "rm(",
     "library": "var_list.r",
     "varRefreshCmd": "cat(var_dic_list()) "
    }
   },
   "types_to_exclude": [
    "module",
    "function",
    "builtin_function_or_method",
    "instance",
    "_Feature"
   ],
   "window_display": false
  }
 },
 "nbformat": 4,
 "nbformat_minor": 2
}
